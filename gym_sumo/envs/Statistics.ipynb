{
 "cells": [
  {
   "cell_type": "code",
   "execution_count": 3,
   "metadata": {},
   "outputs": [],
   "source": [
    "import pandas as pd \n",
    "import json"
   ]
  },
  {
   "cell_type": "code",
   "execution_count": 32,
   "metadata": {},
   "outputs": [
    {
     "name": "stdout",
     "output_type": "stream",
     "text": [
      "112\n"
     ]
    }
   ],
   "source": [
    "with open(\"logs/dqn_log.json\", \"r\") as f:\n",
    "    json_data = json.load(f)\n",
    "print(len(json_data[\"episode\"]))\n",
    "taille= len(json_data[\"loss\"])\n",
    "# Converting JSON data to a pandas DataFrame\n",
    "#metrics = pd.read_json(json_data)\n",
    "#metrics= pd.json_normalize(json_data)\n",
    "#metrics"
   ]
  },
  {
   "cell_type": "code",
   "execution_count": 39,
   "metadata": {},
   "outputs": [],
   "source": [
    "import csv\n",
    "with open('logs/dqn_log.csv', 'w', newline='') as file:\n",
    "    writer = csv.writer(file)\n",
    "    writer.writerow([\"Episode\",\"Loss\", \"mse\", \"episode_reward\"])\n",
    "    for i in range(taille):\n",
    "        writer.writerow([json_data[\"episode\"][i],json_data[\"loss\"][i],json_data[\"mse\"][i],json_data[\"episode_reward\"][i]])\n",
    "     "
   ]
  },
  {
   "cell_type": "code",
   "execution_count": 40,
   "metadata": {},
   "outputs": [
    {
     "data": {
      "text/html": [
       "<div>\n",
       "<style scoped>\n",
       "    .dataframe tbody tr th:only-of-type {\n",
       "        vertical-align: middle;\n",
       "    }\n",
       "\n",
       "    .dataframe tbody tr th {\n",
       "        vertical-align: top;\n",
       "    }\n",
       "\n",
       "    .dataframe thead th {\n",
       "        text-align: right;\n",
       "    }\n",
       "</style>\n",
       "<table border=\"1\" class=\"dataframe\">\n",
       "  <thead>\n",
       "    <tr style=\"text-align: right;\">\n",
       "      <th></th>\n",
       "      <th>Episode</th>\n",
       "      <th>Loss</th>\n",
       "      <th>mse</th>\n",
       "      <th>episode_reward</th>\n",
       "    </tr>\n",
       "  </thead>\n",
       "  <tbody>\n",
       "    <tr>\n",
       "      <th>0</th>\n",
       "      <td>0</td>\n",
       "      <td>173.085984</td>\n",
       "      <td>1.687888e+05</td>\n",
       "      <td>108389.587127</td>\n",
       "    </tr>\n",
       "    <tr>\n",
       "      <th>1</th>\n",
       "      <td>0</td>\n",
       "      <td>699.574985</td>\n",
       "      <td>5.743420e+06</td>\n",
       "      <td>15664.641457</td>\n",
       "    </tr>\n",
       "    <tr>\n",
       "      <th>2</th>\n",
       "      <td>1</td>\n",
       "      <td>141.899139</td>\n",
       "      <td>1.194149e+06</td>\n",
       "      <td>133952.222640</td>\n",
       "    </tr>\n",
       "    <tr>\n",
       "      <th>3</th>\n",
       "      <td>1</td>\n",
       "      <td>908.353638</td>\n",
       "      <td>5.739380e+06</td>\n",
       "      <td>10610.245588</td>\n",
       "    </tr>\n",
       "    <tr>\n",
       "      <th>4</th>\n",
       "      <td>2</td>\n",
       "      <td>263.433838</td>\n",
       "      <td>2.646016e+06</td>\n",
       "      <td>125657.097358</td>\n",
       "    </tr>\n",
       "  </tbody>\n",
       "</table>\n",
       "</div>"
      ],
      "text/plain": [
       "   Episode        Loss           mse  episode_reward\n",
       "0        0  173.085984  1.687888e+05   108389.587127\n",
       "1        0  699.574985  5.743420e+06    15664.641457\n",
       "2        1  141.899139  1.194149e+06   133952.222640\n",
       "3        1  908.353638  5.739380e+06    10610.245588\n",
       "4        2  263.433838  2.646016e+06   125657.097358"
      ]
     },
     "execution_count": 40,
     "metadata": {},
     "output_type": "execute_result"
    }
   ],
   "source": [
    "logs = pd.read_csv(\"logs/dqn_log.csv\")\n",
    "logs.head()\n"
   ]
  },
  {
   "cell_type": "code",
   "execution_count": 43,
   "metadata": {},
   "outputs": [
    {
     "data": {
      "text/html": [
       "<div>\n",
       "<style scoped>\n",
       "    .dataframe tbody tr th:only-of-type {\n",
       "        vertical-align: middle;\n",
       "    }\n",
       "\n",
       "    .dataframe tbody tr th {\n",
       "        vertical-align: top;\n",
       "    }\n",
       "\n",
       "    .dataframe thead th {\n",
       "        text-align: right;\n",
       "    }\n",
       "</style>\n",
       "<table border=\"1\" class=\"dataframe\">\n",
       "  <thead>\n",
       "    <tr style=\"text-align: right;\">\n",
       "      <th></th>\n",
       "      <th>episode_reward</th>\n",
       "    </tr>\n",
       "  </thead>\n",
       "  <tbody>\n",
       "    <tr>\n",
       "      <th>count</th>\n",
       "      <td>112.000000</td>\n",
       "    </tr>\n",
       "    <tr>\n",
       "      <th>mean</th>\n",
       "      <td>22344.733112</td>\n",
       "    </tr>\n",
       "    <tr>\n",
       "      <th>std</th>\n",
       "      <td>33804.850158</td>\n",
       "    </tr>\n",
       "    <tr>\n",
       "      <th>min</th>\n",
       "      <td>518.462500</td>\n",
       "    </tr>\n",
       "    <tr>\n",
       "      <th>25%</th>\n",
       "      <td>11123.375675</td>\n",
       "    </tr>\n",
       "    <tr>\n",
       "      <th>50%</th>\n",
       "      <td>12094.121673</td>\n",
       "    </tr>\n",
       "    <tr>\n",
       "      <th>75%</th>\n",
       "      <td>13730.558856</td>\n",
       "    </tr>\n",
       "    <tr>\n",
       "      <th>max</th>\n",
       "      <td>140227.012066</td>\n",
       "    </tr>\n",
       "  </tbody>\n",
       "</table>\n",
       "</div>"
      ],
      "text/plain": [
       "       episode_reward\n",
       "count      112.000000\n",
       "mean     22344.733112\n",
       "std      33804.850158\n",
       "min        518.462500\n",
       "25%      11123.375675\n",
       "50%      12094.121673\n",
       "75%      13730.558856\n",
       "max     140227.012066"
      ]
     },
     "execution_count": 43,
     "metadata": {},
     "output_type": "execute_result"
    }
   ],
   "source": [
    "logs[[\"episode_reward\"]].describe()"
   ]
  },
  {
   "cell_type": "code",
   "execution_count": 87,
   "metadata": {},
   "outputs": [],
   "source": [
    "with open(\"ttc_log.txt\", \"r\") as f:\n",
    "    json_data = json.load(f)\n",
    "\n",
    "# Converting JSON data to a pandas DataFrame\n",
    "#metrics = pd.read_json(json_data)\n",
    "df = pd.json_normalize(json_data)"
   ]
  },
  {
   "cell_type": "code",
   "execution_count": 88,
   "metadata": {},
   "outputs": [
    {
     "data": {
      "text/html": [
       "<div>\n",
       "<style scoped>\n",
       "    .dataframe tbody tr th:only-of-type {\n",
       "        vertical-align: middle;\n",
       "    }\n",
       "\n",
       "    .dataframe tbody tr th {\n",
       "        vertical-align: top;\n",
       "    }\n",
       "\n",
       "    .dataframe thead th {\n",
       "        text-align: right;\n",
       "    }\n",
       "</style>\n",
       "<table border=\"1\" class=\"dataframe\">\n",
       "  <thead>\n",
       "    <tr style=\"text-align: right;\">\n",
       "      <th></th>\n",
       "      <th>1</th>\n",
       "      <th>2</th>\n",
       "      <th>3</th>\n",
       "      <th>4</th>\n",
       "      <th>5</th>\n",
       "      <th>6</th>\n",
       "      <th>7</th>\n",
       "      <th>8</th>\n",
       "      <th>9</th>\n",
       "      <th>10</th>\n",
       "      <th>...</th>\n",
       "      <th>491</th>\n",
       "      <th>492</th>\n",
       "      <th>493</th>\n",
       "      <th>494</th>\n",
       "      <th>495</th>\n",
       "      <th>496</th>\n",
       "      <th>497</th>\n",
       "      <th>498</th>\n",
       "      <th>499</th>\n",
       "      <th>500</th>\n",
       "    </tr>\n",
       "  </thead>\n",
       "  <tbody>\n",
       "    <tr>\n",
       "      <th>0</th>\n",
       "      <td>0</td>\n",
       "      <td>0</td>\n",
       "      <td>0</td>\n",
       "      <td>0</td>\n",
       "      <td>0</td>\n",
       "      <td>0</td>\n",
       "      <td>0</td>\n",
       "      <td>0</td>\n",
       "      <td>0</td>\n",
       "      <td>0</td>\n",
       "      <td>...</td>\n",
       "      <td>10.847</td>\n",
       "      <td>10.5685</td>\n",
       "      <td>10.492</td>\n",
       "      <td>10.42925</td>\n",
       "      <td>10.485526</td>\n",
       "      <td>10.485526</td>\n",
       "      <td>10.482368</td>\n",
       "      <td>10.540811</td>\n",
       "      <td>10.540811</td>\n",
       "      <td>10.626111</td>\n",
       "    </tr>\n",
       "  </tbody>\n",
       "</table>\n",
       "<p>1 rows × 500 columns</p>\n",
       "</div>"
      ],
      "text/plain": [
       "   1  2  3  4  5  6  7  8  9  10  ...     491      492     493       494  \\\n",
       "0  0  0  0  0  0  0  0  0  0   0  ...  10.847  10.5685  10.492  10.42925   \n",
       "\n",
       "         495        496        497        498        499        500  \n",
       "0  10.485526  10.485526  10.482368  10.540811  10.540811  10.626111  \n",
       "\n",
       "[1 rows x 500 columns]"
      ]
     },
     "execution_count": 88,
     "metadata": {},
     "output_type": "execute_result"
    }
   ],
   "source": [
    "df.head()"
   ]
  },
  {
   "cell_type": "code",
   "execution_count": 89,
   "metadata": {},
   "outputs": [
    {
     "data": {
      "text/plain": [
       "count    500.000000\n",
       "mean      16.206061\n",
       "std        6.828361\n",
       "min        0.000000\n",
       "25%       12.663799\n",
       "50%       15.610909\n",
       "75%       18.506658\n",
       "max       72.852941\n",
       "Name: 0, dtype: float64"
      ]
     },
     "execution_count": 89,
     "metadata": {},
     "output_type": "execute_result"
    }
   ],
   "source": [
    "transposed_df = df.transpose()\n",
    "transposed_df.head()\n",
    "#transposed_df['TTC'].shift(-1)\n",
    "transposed_df[0].describe()"
   ]
  },
  {
   "cell_type": "code",
   "execution_count": 90,
   "metadata": {},
   "outputs": [
    {
     "data": {
      "text/plain": [
       "count    6979.000000\n",
       "mean       33.232955\n",
       "std        16.829574\n",
       "min         7.790000\n",
       "25%        22.393810\n",
       "50%        28.201500\n",
       "75%        39.005652\n",
       "max       140.633333\n",
       "Name: 7.79, dtype: float64"
      ]
     },
     "execution_count": 90,
     "metadata": {},
     "output_type": "execute_result"
    }
   ],
   "source": [
    "data = pd.read_csv(\"ttc_log_novsl1.csv\")\n",
    "data.head()\n",
    "data[\"7.79\"].describe()"
   ]
  }
 ],
 "metadata": {
  "kernelspec": {
   "display_name": "my_rl",
   "language": "python",
   "name": "python3"
  },
  "language_info": {
   "codemirror_mode": {
    "name": "ipython",
    "version": 3
   },
   "file_extension": ".py",
   "mimetype": "text/x-python",
   "name": "python",
   "nbconvert_exporter": "python",
   "pygments_lexer": "ipython3",
   "version": "3.7.16"
  }
 },
 "nbformat": 4,
 "nbformat_minor": 2
}
